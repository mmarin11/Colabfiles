{
  "nbformat": 4,
  "nbformat_minor": 0,
  "metadata": {
    "colab": {
      "provenance": [],
      "authorship_tag": "ABX9TyPpgVYjrZk7gyW1wBrRYk1g",
      "include_colab_link": true
    },
    "kernelspec": {
      "name": "python3",
      "display_name": "Python 3"
    },
    "language_info": {
      "name": "python"
    }
  },
  "cells": [
    {
      "cell_type": "markdown",
      "metadata": {
        "id": "view-in-github",
        "colab_type": "text"
      },
      "source": [
        "<a href=\"https://colab.research.google.com/github/mmarin11/Colabfiles/blob/main/Practica4/Practica4.ipynb\" target=\"_parent\"><img src=\"https://colab.research.google.com/assets/colab-badge.svg\" alt=\"Open In Colab\"/></a>"
      ]
    },
    {
      "cell_type": "code",
      "execution_count": 1,
      "metadata": {
        "colab": {
          "base_uri": "https://localhost:8080/"
        },
        "id": "2FnmzS3LgJTY",
        "outputId": "35d05b4e-3c51-43bf-afe4-663d53c62c51"
      },
      "outputs": [
        {
          "output_type": "stream",
          "name": "stdout",
          "text": [
            "Matriz A:\n",
            " [[10  4  8]\n",
            " [ 3  6  2]\n",
            " [ 6  7  9]]\n",
            "Matriz B:\n",
            " [[ 3  5 10]\n",
            " [ 4  9  8]\n",
            " [ 6  5  4]]\n",
            "\n",
            "Suma A + B:\n",
            " [[13  9 18]\n",
            " [ 7 15 10]\n",
            " [12 12 13]]\n",
            "\n",
            "Resta A - B:\n",
            " [[ 7 -1 -2]\n",
            " [-1 -3 -6]\n",
            " [ 0  2  5]]\n",
            "\n",
            "Matriz A * 2:\n",
            " [[20  8 16]\n",
            " [ 6 12  4]\n",
            " [12 14 18]]\n",
            "\n",
            "Producto A x B:\n",
            " [[ 94 126 164]\n",
            " [ 45  79  86]\n",
            " [100 138 152]]\n"
          ]
        }
      ],
      "source": [
        "import numpy as np\n",
        "\n",
        "# Crear dos matrices de 3x3 con números aleatorios entre 1 y 10\n",
        "A = np.random.randint(1, 11, size=(3, 3))\n",
        "B = np.random.randint(1, 11, size=(3, 3))\n",
        "\n",
        "print(\"Matriz A:\\n\", A)\n",
        "print(\"Matriz B:\\n\", B)\n",
        "\n",
        "# 1. Suma de matrices\n",
        "suma = A + B\n",
        "print(\"\\nSuma A + B:\\n\", suma)\n",
        "\n",
        "# 2. Resta (A - B)\n",
        "resta = A - B\n",
        "print(\"\\nResta A - B:\\n\", resta)\n",
        "\n",
        "# 3. Multiplicar la matriz A por 2\n",
        "doble_A = A * 2\n",
        "print(\"\\nMatriz A * 2:\\n\", doble_A)\n",
        "\n",
        "# 4. Multiplicación matricial (producto punto)\n",
        "producto = A @ B   # también se puede usar np.dot(A, B)\n",
        "print(\"\\nProducto A x B:\\n\", producto)"
      ]
    }
  ]
}