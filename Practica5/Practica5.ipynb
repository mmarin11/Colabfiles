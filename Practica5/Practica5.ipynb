{
  "nbformat": 4,
  "nbformat_minor": 0,
  "metadata": {
    "colab": {
      "provenance": [],
      "authorship_tag": "ABX9TyMdC1mDXTO0jFRhdmsg7dl0",
      "include_colab_link": true
    },
    "kernelspec": {
      "name": "python3",
      "display_name": "Python 3"
    },
    "language_info": {
      "name": "python"
    }
  },
  "cells": [
    {
      "cell_type": "markdown",
      "metadata": {
        "id": "view-in-github",
        "colab_type": "text"
      },
      "source": [
        "<a href=\"https://colab.research.google.com/github/mmarin11/Colabfiles/blob/main/Practica5/Practica5.ipynb\" target=\"_parent\"><img src=\"https://colab.research.google.com/assets/colab-badge.svg\" alt=\"Open In Colab\"/></a>"
      ]
    },
    {
      "cell_type": "code",
      "execution_count": 4,
      "metadata": {
        "colab": {
          "base_uri": "https://localhost:8080/"
        },
        "id": "EhYOpjujiDal",
        "outputId": "0c082e42-ad90-440d-884f-80e2671b10f4"
      },
      "outputs": [
        {
          "output_type": "stream",
          "name": "stdout",
          "text": [
            "Arreglo original: [27 28  1 28  4 43 30  3 16 40 17 40 44 42 19]\n",
            "Máscara booleana: [ True  True False  True False  True  True False False  True False  True\n",
            "  True  True False]\n",
            "Elementos mayores que 25: [27 28 28 43 30 40 40 44 42]\n",
            "Cantidad de elementos mayores que 25: 9\n"
          ]
        }
      ],
      "source": [
        "import numpy as np\n",
        "\n",
        "# Crear un arreglo unidimensional con 15 números aleatorios entre 1 y 50\n",
        "arr = np.random.randint(1, 51, size=15)\n",
        "print(\"Arreglo original:\", arr)\n",
        "\n",
        "# Crear máscara booleana para elementos mayores que 25\n",
        "mask = arr > 25\n",
        "print(\"Máscara booleana:\", mask)\n",
        "\n",
        "# Seleccionar elementos que cumplen la condición\n",
        "mayores_25 = arr[mask]\n",
        "print(\"Elementos mayores que 25:\", mayores_25)\n",
        "\n",
        "# Contar cuántos elementos cumplen la condición\n",
        "cantidad = mask.sum()   # True=1, False=0\n",
        "print(\"Cantidad de elementos mayores que 25:\", cantidad)"
      ]
    }
  ]
}