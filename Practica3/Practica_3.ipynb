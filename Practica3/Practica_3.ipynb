{
  "nbformat": 4,
  "nbformat_minor": 0,
  "metadata": {
    "colab": {
      "provenance": [],
      "authorship_tag": "ABX9TyPih/UviT3yyPoOvlmu4eb9",
      "include_colab_link": true
    },
    "kernelspec": {
      "name": "python3",
      "display_name": "Python 3"
    },
    "language_info": {
      "name": "python"
    }
  },
  "cells": [
    {
      "cell_type": "markdown",
      "metadata": {
        "id": "view-in-github",
        "colab_type": "text"
      },
      "source": [
        "<a href=\"https://colab.research.google.com/github/mmarin11/Colabfiles/blob/main/Practica3/Practica_3.ipynb\" target=\"_parent\"><img src=\"https://colab.research.google.com/assets/colab-badge.svg\" alt=\"Open In Colab\"/></a>"
      ]
    },
    {
      "cell_type": "code",
      "execution_count": 7,
      "metadata": {
        "colab": {
          "base_uri": "https://localhost:8080/"
        },
        "id": "zdxDo3UHdt7q",
        "outputId": "7e6ad423-b308-47c7-8c60-f7dcc94642c0"
      },
      "outputs": [
        {
          "output_type": "stream",
          "name": "stdout",
          "text": [
            "Arreglo original: [31 64 64 80 33 36 85 72 35 75 69 36 64 41 83 23 30 98 25 17]\n",
            "Valor máximo: 98\n",
            "Valor mínimo: 17\n",
            "Media: 53.05\n",
            "Arreglo +10: [ 41  74  74  90  43  46  95  82  45  85  79  46  74  51  93  33  40 108\n",
            "  35  27]\n"
          ]
        }
      ],
      "source": [
        "import numpy as np\n",
        "\n",
        "# Crear un arreglo unidimensional de 20 elementos con valores aleatorios entre 1 y 100\n",
        "arr = np.random.randint(1, 101, size=20)\n",
        "print(\"Arreglo original:\", arr)\n",
        "\n",
        "# Valor máximo\n",
        "max_val = arr.max()\n",
        "print(\"Valor máximo:\", max_val)\n",
        "\n",
        "# Valor mínimo\n",
        "min_val = arr.min()\n",
        "print(\"Valor mínimo:\", min_val)\n",
        "\n",
        "# Media del arreglo\n",
        "mean_val = arr.mean()\n",
        "print(\"Media:\", mean_val)\n",
        "\n",
        "# Sumar 10 a cada elemento\n",
        "arr_plus_10 = arr + 10\n",
        "print(\"Arreglo +10:\", arr_plus_10)"
      ]
    }
  ]
}