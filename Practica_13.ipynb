{
  "nbformat": 4,
  "nbformat_minor": 0,
  "metadata": {
    "colab": {
      "provenance": [],
      "mount_file_id": "1oomMinML9FbXKmOgJLDT4qmO0KHV2yUG",
      "authorship_tag": "ABX9TyOZuMT9fTwed+216ychjhjb",
      "include_colab_link": true
    },
    "kernelspec": {
      "name": "python3",
      "display_name": "Python 3"
    },
    "language_info": {
      "name": "python"
    }
  },
  "cells": [
    {
      "cell_type": "markdown",
      "metadata": {
        "id": "view-in-github",
        "colab_type": "text"
      },
      "source": [
        "<a href=\"https://colab.research.google.com/github/mmarin11/Colabfiles/blob/main/Practica_13.ipynb\" target=\"_parent\"><img src=\"https://colab.research.google.com/assets/colab-badge.svg\" alt=\"Open In Colab\"/></a>"
      ]
    },
    {
      "cell_type": "markdown",
      "source": [
        "**Práctica 13:** Carga de Datos"
      ],
      "metadata": {
        "id": "3caLWXD3is9v"
      }
    },
    {
      "cell_type": "code",
      "execution_count": 1,
      "metadata": {
        "colab": {
          "base_uri": "https://localhost:8080/"
        },
        "id": "BwT6HODLh7JP",
        "outputId": "586a0999-cabd-419f-e175-53b920d1d2c6"
      },
      "outputs": [
        {
          "output_type": "stream",
          "name": "stdout",
          "text": [
            ">> df.tail(3): (demuestra que la última línea NO se cargó)\n",
            "       Unnamed: 0  BOROUGH NEIGHBORHOOD  \\\n",
            "84545        8411        5      WOODROW   \n",
            "84546        8412        5      WOODROW   \n",
            "84547        8413        5      WOODROW   \n",
            "\n",
            "                           BUILDING CLASS CATEGORY TAX CLASS AT PRESENT  \\\n",
            "84545  02 TWO FAMILY DWELLINGS                                        1   \n",
            "84546  22 STORE BUILDINGS                                             4   \n",
            "84547  35 INDOOR PUBLIC AND CULTURAL FACILITIES                       4   \n",
            "\n",
            "       BLOCK  LOT EASE-MENT BUILDING CLASS AT PRESENT                ADDRESS  \\\n",
            "84545   7351   60                                  B2       49 PITNEY AVENUE   \n",
            "84546   7100   28                                  K6  2730 ARTHUR KILL ROAD   \n",
            "84547   7105  679                                  P9      155 CLAY PIT ROAD   \n",
            "\n",
            "       ... RESIDENTIAL UNITS  COMMERCIAL UNITS  TOTAL UNITS  LAND SQUARE FEET  \\\n",
            "84545  ...                 2                 0            2              4000   \n",
            "84546  ...                 0                 7            7            208033   \n",
            "84547  ...                 0                 1            1             10796   \n",
            "\n",
            "       GROSS SQUARE FEET YEAR BUILT TAX CLASS AT TIME OF SALE  \\\n",
            "84545               1496       1925                         1   \n",
            "84546              64117       2001                         4   \n",
            "84547               2400       2006                         4   \n",
            "\n",
            "       BUILDING CLASS AT TIME OF SALE  SALE PRICE            SALE DATE  \n",
            "84545                              B2      460000  2017-07-05 00:00:00  \n",
            "84546                              K6    11693337  2016-12-21 00:00:00  \n",
            "84547                              P9       69300  2016-10-27 00:00:00  \n",
            "\n",
            "[3 rows x 22 columns]\n",
            "\n",
            ">> Dimensiones del dataframe (filas, columnas):\n",
            "(84548, 22)\n"
          ]
        }
      ],
      "source": [
        "import pandas as pd\n",
        "import numpy as np\n",
        "import re\n",
        "\n",
        "df = pd.read_csv(\"/content/drive/MyDrive/ClassFiles/datos/miaad-nyc-r-s.csv\", skipfooter=1, engine=\"python\")\n",
        "\n",
        "print(\">> df.tail(3): (demuestra que la última línea NO se cargó)\")\n",
        "print(df.tail(3))\n",
        "print(\"\\n>> Dimensiones del dataframe (filas, columnas):\")\n",
        "print(df.shape)"
      ]
    },
    {
      "cell_type": "markdown",
      "source": [
        "**Práctica 14**: Agregar una columna"
      ],
      "metadata": {
        "id": "KKgoHDMSl3Wn"
      }
    },
    {
      "cell_type": "code",
      "source": [
        "print(\"\\n>> Nombres de columnas (antes):\")\n",
        "print(list(df.columns))\n",
        "\n",
        "# Asegurar que la primera columna se llame \"INDEX MIIAD\"\n",
        "if df.columns[0] != \"INDEX MIIAD\":\n",
        "    new_cols = list(df.columns)\n",
        "    new_cols[0] = \"INDEX MIIAD\"\n",
        "    df.columns = new_cols\n",
        "\n",
        "print(\"\\n>> Nombres de columnas (después de asegurar 'INDEX MIIAD' como primera):\")\n",
        "print(list(df.columns))"
      ],
      "metadata": {
        "colab": {
          "base_uri": "https://localhost:8080/"
        },
        "id": "oEc14v3Bl77W",
        "outputId": "03ad508f-bd3a-47ea-cf73-faa128c34c49"
      },
      "execution_count": 2,
      "outputs": [
        {
          "output_type": "stream",
          "name": "stdout",
          "text": [
            "\n",
            ">> Nombres de columnas (antes):\n",
            "['Unnamed: 0', 'BOROUGH', 'NEIGHBORHOOD', 'BUILDING CLASS CATEGORY', 'TAX CLASS AT PRESENT', 'BLOCK', 'LOT', 'EASE-MENT', 'BUILDING CLASS AT PRESENT', 'ADDRESS', 'APARTMENT NUMBER', 'ZIP CODE', 'RESIDENTIAL UNITS', 'COMMERCIAL UNITS', 'TOTAL UNITS', 'LAND SQUARE FEET', 'GROSS SQUARE FEET', 'YEAR BUILT', 'TAX CLASS AT TIME OF SALE', 'BUILDING CLASS AT TIME OF SALE', 'SALE PRICE', 'SALE DATE']\n",
            "\n",
            ">> Nombres de columnas (después de asegurar 'INDEX MIIAD' como primera):\n",
            "['INDEX MIIAD', 'BOROUGH', 'NEIGHBORHOOD', 'BUILDING CLASS CATEGORY', 'TAX CLASS AT PRESENT', 'BLOCK', 'LOT', 'EASE-MENT', 'BUILDING CLASS AT PRESENT', 'ADDRESS', 'APARTMENT NUMBER', 'ZIP CODE', 'RESIDENTIAL UNITS', 'COMMERCIAL UNITS', 'TOTAL UNITS', 'LAND SQUARE FEET', 'GROSS SQUARE FEET', 'YEAR BUILT', 'TAX CLASS AT TIME OF SALE', 'BUILDING CLASS AT TIME OF SALE', 'SALE PRICE', 'SALE DATE']\n"
          ]
        }
      ]
    },
    {
      "cell_type": "markdown",
      "source": [
        "**Práctica 15:** Normalización de los nombres de la columna."
      ],
      "metadata": {
        "id": "PwwdMIZemdsq"
      }
    },
    {
      "cell_type": "code",
      "source": [
        "df.columns = [re.sub(r\"\\s+\", \"_\", c.strip().lower()) for c in df.columns]\n",
        "\n",
        "print(\"\\n>> Nombres de columnas normalizados (minúsculas y con guion_bajo):\")\n",
        "print(list(df.columns))"
      ],
      "metadata": {
        "colab": {
          "base_uri": "https://localhost:8080/"
        },
        "id": "cIl8yLGgmh47",
        "outputId": "30972a54-78e4-4373-c777-1845b649e4cd"
      },
      "execution_count": 3,
      "outputs": [
        {
          "output_type": "stream",
          "name": "stdout",
          "text": [
            "\n",
            ">> Nombres de columnas normalizados (minúsculas y con guion_bajo):\n",
            "['index_miiad', 'borough', 'neighborhood', 'building_class_category', 'tax_class_at_present', 'block', 'lot', 'ease-ment', 'building_class_at_present', 'address', 'apartment_number', 'zip_code', 'residential_units', 'commercial_units', 'total_units', 'land_square_feet', 'gross_square_feet', 'year_built', 'tax_class_at_time_of_sale', 'building_class_at_time_of_sale', 'sale_price', 'sale_date']\n"
          ]
        }
      ]
    },
    {
      "cell_type": "markdown",
      "source": [
        "**Práctica 16:** Errores en los Tipos de Datos"
      ],
      "metadata": {
        "id": "KbzucmFBm-mw"
      }
    },
    {
      "cell_type": "code",
      "source": [
        "\n",
        "\n",
        "print(\"----------------------------------------\")\n",
        "print(\"Práctica 16: Tipos de Datos\")\n",
        "print(\"----------------------------------------\")\n",
        "\n",
        "# Se imprimen los tipos de datos originales de cada columna usando el atributo .dtypes.\n",
        "print(\"Tipos de datos originales:\")\n",
        "print(df.dtypes)\n",
        "\n",
        "\n",
        "df['sale_price'] = pd.to_numeric(df['sale_price'], errors='coerce')\n",
        "df['land_square_feet'] = pd.to_numeric(df['land_square_feet'], errors='coerce')\n",
        "df['gross_square_feet'] = pd.to_numeric(df['gross_square_feet'], errors='coerce')\n",
        "\n",
        "# Se imprimen los tipos de datos nuevamente para confirmar que el cambio se realizó.\n",
        "print(\"\\nTipos de datos después de la corrección:\")\n",
        "print(df.dtypes)\n",
        "print(\"\\n\")"
      ],
      "metadata": {
        "colab": {
          "base_uri": "https://localhost:8080/"
        },
        "id": "l25kIcZtm_83",
        "outputId": "e9fe3f5c-09d9-4013-89e2-59b187070e4a"
      },
      "execution_count": 8,
      "outputs": [
        {
          "output_type": "stream",
          "name": "stdout",
          "text": [
            "----------------------------------------\n",
            "Práctica 16: Tipos de Datos\n",
            "----------------------------------------\n",
            "Tipos de datos originales:\n",
            "index_miiad                         int64\n",
            "borough                             int64\n",
            "neighborhood                       object\n",
            "building_class_category            object\n",
            "tax_class_at_present               object\n",
            "block                               int64\n",
            "lot                                 int64\n",
            "ease-ment                          object\n",
            "building_class_at_present          object\n",
            "address                            object\n",
            "apartment_number                   object\n",
            "zip_code                            int64\n",
            "residential_units                   int64\n",
            "commercial_units                    int64\n",
            "total_units                         int64\n",
            "land_square_feet                  float64\n",
            "gross_square_feet                 float64\n",
            "year_built                          int64\n",
            "tax_class_at_time_of_sale           int64\n",
            "building_class_at_time_of_sale     object\n",
            "sale_price                        float64\n",
            "sale_date                          object\n",
            "dtype: object\n",
            "\n",
            "Tipos de datos después de la corrección:\n",
            "index_miiad                         int64\n",
            "borough                             int64\n",
            "neighborhood                       object\n",
            "building_class_category            object\n",
            "tax_class_at_present               object\n",
            "block                               int64\n",
            "lot                                 int64\n",
            "ease-ment                          object\n",
            "building_class_at_present          object\n",
            "address                            object\n",
            "apartment_number                   object\n",
            "zip_code                            int64\n",
            "residential_units                   int64\n",
            "commercial_units                    int64\n",
            "total_units                         int64\n",
            "land_square_feet                  float64\n",
            "gross_square_feet                 float64\n",
            "year_built                          int64\n",
            "tax_class_at_time_of_sale           int64\n",
            "building_class_at_time_of_sale     object\n",
            "sale_price                        float64\n",
            "sale_date                          object\n",
            "dtype: object\n",
            "\n",
            "\n"
          ]
        }
      ]
    },
    {
      "cell_type": "markdown",
      "source": [
        "**Práctica 17:** Genera el diccionario de datos del dataframe preprocesado. Imprime el contenido de dicho diccionario"
      ],
      "metadata": {
        "id": "sZD159cMns5t"
      }
    },
    {
      "cell_type": "code",
      "source": [
        "print(\"----------------------------------------\")\n",
        "print(\"Práctica 17: Diccionario de Datos\")\n",
        "print(\"----------------------------------------\")\n",
        "\n",
        "# Se crea un diccionario de Python para almacenar la información del resumen.\n",
        "# Las claves serán los nombres de las columnas del nuevo DataFrame de resumen.\n",
        "data_dictionary_info = {\n",
        "    # Se obtienen los nombres de las columnas del DataFrame principal.\n",
        "    'Column Name': df.columns,\n",
        "    # Se obtienen los tipos de datos y se convierten a string para el resumen.\n",
        "    'Data Type': [str(dtype) for dtype in df.dtypes],\n",
        "    # .count() cuenta los valores no nulos por columna.\n",
        "    'Non-Null Count': df.count().values,\n",
        "    # .isnull().sum() cuenta la cantidad de valores nulos por columna.\n",
        "    'Null Count': df.isnull().sum().values\n",
        "}\n",
        "\n",
        "# Se crea un nuevo DataFrame a partir del diccionario.\n",
        "data_dictionary_df = pd.DataFrame(data_dictionary_info)\n",
        "\n",
        "# Se imprime el DataFrame que funciona como nuestro diccionario de datos.\n",
        "print(\"Diccionario de datos del dataframe preprocesado:\")\n",
        "print(data_dictionary_df)\n",
        "\n"
      ],
      "metadata": {
        "colab": {
          "base_uri": "https://localhost:8080/"
        },
        "id": "IhcxYURYn3oe",
        "outputId": "47bf43af-5051-4882-9602-4777be17d720"
      },
      "execution_count": 9,
      "outputs": [
        {
          "output_type": "stream",
          "name": "stdout",
          "text": [
            "----------------------------------------\n",
            "Práctica 17: Diccionario de Datos\n",
            "----------------------------------------\n",
            "Diccionario de datos del dataframe preprocesado:\n",
            "                       Column Name Data Type  Non-Null Count  Null Count\n",
            "0                      index_miiad     int64           84548           0\n",
            "1                          borough     int64           84548           0\n",
            "2                     neighborhood    object           84548           0\n",
            "3          building_class_category    object           84548           0\n",
            "4             tax_class_at_present    object           84548           0\n",
            "5                            block     int64           84548           0\n",
            "6                              lot     int64           84548           0\n",
            "7                        ease-ment    object           84548           0\n",
            "8        building_class_at_present    object           84548           0\n",
            "9                          address    object           84548           0\n",
            "10                apartment_number    object           84548           0\n",
            "11                        zip_code     int64           84548           0\n",
            "12               residential_units     int64           84548           0\n",
            "13                commercial_units     int64           84548           0\n",
            "14                     total_units     int64           84548           0\n",
            "15                land_square_feet   float64           58296       26252\n",
            "16               gross_square_feet   float64           56936       27612\n",
            "17                      year_built     int64           84548           0\n",
            "18       tax_class_at_time_of_sale     int64           84548           0\n",
            "19  building_class_at_time_of_sale    object           84548           0\n",
            "20                      sale_price   float64           69987       14561\n",
            "21                       sale_date    object           84548           0\n"
          ]
        }
      ]
    }
  ]
}